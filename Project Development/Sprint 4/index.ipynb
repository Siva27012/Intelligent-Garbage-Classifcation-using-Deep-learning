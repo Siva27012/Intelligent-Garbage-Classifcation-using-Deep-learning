{
  "nbformat": 4,
  "nbformat_minor": 0,
  "metadata": {
    "colab": {
      "provenance": []
    },
    "kernelspec": {
      "name": "python3",
      "display_name": "Python 3"
    },
    "language_info": {
      "name": "python"
    }
  },
  "cells": [
    {
      "cell_type": "code",
      "execution_count": null,
      "metadata": {
        "id": "blEx02b01GZI"
      },
      "outputs": [],
      "source": [
        "from __future__ import division, print_function\n",
        "\n",
        "#coding-utf-8\n",
        "\n",
        "import sys\n",
        "\n",
        "import os\n",
        "\n",
        "import glob\n",
        "\n",
        "import numpy as np\n",
        "\n",
        "from tensorflow.keras.preprocessing import image\n",
        "\n",
        "from tensorflow.keras.models import Sequential\n",
        "\n",
        "from tensorflow.keras.layers import Dense\n",
        "\n",
        "from tensorflow.keras.layers import Dropout\n",
        "\n",
        "from tensorflow.keras.applications.imagenet_utils import preprocess_input, decode_predictions\n",
        "\n",
        "from tensorflow.keras.models import load_model\n",
        "\n",
        "from tensorflow.keras import backend\n",
        "\n",
        "from tensorflow.keras import backend\n",
        "\n",
        "from tensorflow import keras\n",
        "\n",
        "import tensorflow as tf\n",
        "\n",
        "from skimage.transform import resize\n",
        "\n",
        "\n",
        "from flask import Flask, redirect, url_for, request, render_template\n",
        "\n",
        "from werkzeug.utils import secure_filename \n",
        "from gevent.pywsgi import WSGIServer"
      ]
    },
    {
      "cell_type": "code",
      "source": [
        "from __future__ import division, print_function\n",
        "import sys"
      ],
      "metadata": {
        "id": "cR4iBDTr17p8"
      },
      "execution_count": null,
      "outputs": []
    },
    {
      "cell_type": "code",
      "source": [
        "@app.route('/',methods=['GET'])\n",
        "\n",
        "def index () : \n",
        "\n",
        "  return render_template ('index.html')\n",
        "\n",
        "@app.route('/Image', methods=['POST', 'GET'])\\\n",
        " def prediction (): \n",
        "\n",
        "return render_template('base.html')"
      ],
      "metadata": {
        "id": "GXzGFKZ22Qk8"
      },
      "execution_count": null,
      "outputs": []
    },
    {
      "cell_type": "code",
      "source": [
        "@app.route('/predict', methods=['GET', 'POST'])\n",
        "\n",
        "def upload():\n",
        "\n",
        "if request.method == 'POST':\n",
        "   f= request.files ['image']\n",
        "\n",
        "\n",
        "basepath= os.path.dirname('/content/drive/MyDrive/Dataset/Garbage classification/Garbage classification')\n",
        "\n",
        "file_path = os.path.join(\n",
        "\n",
        "basepath, 'predictions', f.filename)\n",
        "\n",
        "f.save(file_path)\n",
        "\n",
        "img=image.load_img(file_path, target_size=(128, 128))\n",
        "\n",
        "x = image.img_to_ray (img)\n",
        "x= np.expand_dims (x, axis=0)\n",
        "\n",
        "preds=model.predict_classes (x)\n",
        "\n",
        "index = ['cardboard', 'glass', 'metal', 'paper', 'plastic', 'trash']\n",
        "\n",
        "text = \"The Predicted Garbage is : \"+str(index [preds[0]])\n",
        "\n",
        "\n",
        "return text"
      ],
      "metadata": {
        "id": "aUg21PD32q0f"
      },
      "execution_count": null,
      "outputs": []
    },
    {
      "cell_type": "code",
      "source": [
        "img-image.load_img(r\"/content/drive/MyDrive/Dataset/Garbage classification/Garbage classification/glass/glass17.jpg\", target_size=(128,128))\n",
        "\n",
        "x=image.img_to_array(img) #converting in to array format\n",
        "\n",
        "x=np.expand_dims(x,axis-0) #changing its dimensions as per our requirement\n",
        "\n",
        "#img_dato-preprocess_input(x)\n",
        "\n",
        "#img_data.shape\n",
        "\n",
        "a-np.argmax(model.predict(x), axis=1)"
      ],
      "metadata": {
        "id": "HA_umB643oMw"
      },
      "execution_count": null,
      "outputs": []
    },
    {
      "cell_type": "code",
      "source": [
        "@app.route('/predict',methods=['GET', 'POST'])\n",
        "\n",
        "def upload():"
      ],
      "metadata": {
        "id": "MiOelGlT4BaP"
      },
      "execution_count": null,
      "outputs": []
    }
  ]
}