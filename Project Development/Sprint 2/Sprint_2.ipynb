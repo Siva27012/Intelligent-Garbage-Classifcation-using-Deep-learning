{
  "nbformat": 4,
  "nbformat_minor": 0,
  "metadata": {
    "colab": {
      "provenance": [],
      "history_visible": true
    },
    "kernelspec": {
      "name": "python3",
      "display_name": "Python 3"
    },
    "language_info": {
      "name": "python"
    }
  },
  "cells": [
    {
      "cell_type": "markdown",
      "source": [
        "# **IMAGE PREPROCESSING**"
      ],
      "metadata": {
        "id": "o3aAzFSokM-V"
      }
    },
    {
      "cell_type": "markdown",
      "source": [
        "# **1.Import The ImageDataGenerator Library**"
      ],
      "metadata": {
        "id": "EJc4ZVD5kdvQ"
      }
    },
    {
      "cell_type": "code",
      "source": [
        "from keras.preprocessing.image import ImageDataGenerator"
      ],
      "metadata": {
        "id": "uhWLMEu1kT3l"
      },
      "execution_count": 25,
      "outputs": []
    },
    {
      "cell_type": "markdown",
      "source": [
        "# **2.Configure ImageDataGenerator**"
      ],
      "metadata": {
        "id": "6ahtHJFwlE9U"
      }
    },
    {
      "cell_type": "code",
      "source": [
        "train_datagen = ImageDataGenerator(rescale = 1./255,\n",
        "                                   shear_range = 0.1,\n",
        "                                   zoom_range = 0.1,\n",
        "                                   horizontal_flip = True)\n",
        "\n",
        "test_datagen = ImageDataGenerator(rescale = 1./255)"
      ],
      "metadata": {
        "id": "8nRlcwHkldFQ"
      },
      "execution_count": 26,
      "outputs": []
    },
    {
      "cell_type": "markdown",
      "source": [
        "# **3. Apply ImageDataGenerator Functionality To Trainset And Testset**"
      ],
      "metadata": {
        "id": "6FK3DnqallIM"
      }
    },
    {
      "cell_type": "code",
      "source": [
        "train_transform = train_datagen.flow_from_directory('/content/drive/MyDrive/Dataset/Garbage classification/Garbage classification',\n",
        "                                                 target_size=(128,128),\n",
        "                                                 batch_size=64,\n",
        "                                                 class_mode='categorical')\n",
        "test_transform = test_datagen.flow_from_directory('/content/drive/MyDrive/Dataset/Garbage classification/Garbage classification',\n",
        "                                            target_size=(128,128),\n",
        "                                            batch_size=64,\n",
        "                                            class_mode='categorical')"
      ],
      "metadata": {
        "colab": {
          "base_uri": "https://localhost:8080/"
        },
        "id": "VJDNP13SlnBl",
        "outputId": "3ed36893-c99c-4ce1-b7ff-ca9e51954875"
      },
      "execution_count": 28,
      "outputs": [
        {
          "output_type": "stream",
          "name": "stdout",
          "text": [
            "Found 2527 images belonging to 6 classes.\n",
            "Found 2527 images belonging to 6 classes.\n"
          ]
        }
      ]
    },
    {
      "cell_type": "markdown",
      "source": [
        "# **MODEL BUILDING**"
      ],
      "metadata": {
        "id": "gltO7Ba_l7zt"
      }
    },
    {
      "cell_type": "markdown",
      "source": [
        " **1. Importing The Model Building Libraries**"
      ],
      "metadata": {
        "id": "JiNJiQiFmDe6"
      }
    },
    {
      "cell_type": "code",
      "source": [
        "import tensorflow as tf\n",
        "from tensorflow.keras.models import Sequential\n",
        "from tensorflow.keras.layers import Dense\n",
        "from tensorflow.keras.layers import Convolution2D\n",
        "from tensorflow.keras.layers import MaxPooling2D\n",
        "from tensorflow.keras.layers import Flatten\n",
        "from tensorflow.keras.optimizers import Adam\n"
      ],
      "metadata": {
        "id": "UgW8N77hl-c5"
      },
      "execution_count": 30,
      "outputs": []
    },
    {
      "cell_type": "markdown",
      "source": [
        " **2.Initialize The Model**"
      ],
      "metadata": {
        "id": "BibD7QWdmRl3"
      }
    },
    {
      "cell_type": "code",
      "source": [
        "model=Sequential()"
      ],
      "metadata": {
        "id": "1C8jamFnmQtx"
      },
      "execution_count": 31,
      "outputs": []
    },
    {
      "cell_type": "markdown",
      "source": [
        "**3.Adding CNN Layers**"
      ],
      "metadata": {
        "id": "nrAga_nf1Lv8"
      }
    },
    {
      "cell_type": "code",
      "source": [
        "model=Sequential()"
      ],
      "metadata": {
        "id": "I9Tktbo01Tyy"
      },
      "execution_count": 40,
      "outputs": []
    },
    {
      "cell_type": "code",
      "source": [
        "model.add(Convolution2D(32,(3,3),input_shape=(128,128,3),activation='relu'))\n",
        "model.add(MaxPooling2D(2,2))"
      ],
      "metadata": {
        "id": "W03VSEi61be5"
      },
      "execution_count": 41,
      "outputs": []
    },
    {
      "cell_type": "code",
      "source": [
        "model.add(Convolution2D(64,(3,3),padding='same',activation='relu'))\n",
        "model.add(MaxPooling2D(pool_size=2))"
      ],
      "metadata": {
        "id": "B89fuy662jQJ"
      },
      "execution_count": 42,
      "outputs": []
    },
    {
      "cell_type": "code",
      "source": [
        "model.add(Convolution2D(32,(3,3),activation='relu'))\n",
        "model.add(MaxPooling2D(2,2))"
      ],
      "metadata": {
        "id": "MZB8-Pr-3Kkr"
      },
      "execution_count": 43,
      "outputs": []
    },
    {
      "cell_type": "code",
      "source": [
        "model.add(Convolution2D(32,(3,3), padding='same',activation='relu'))\n",
        "model.add(MaxPooling2D(pool_size=2))"
      ],
      "metadata": {
        "id": "NsotXN2L3Skm"
      },
      "execution_count": 44,
      "outputs": []
    },
    {
      "cell_type": "code",
      "source": [
        "model.add(Flatten())"
      ],
      "metadata": {
        "id": "kofTt78B4NBf"
      },
      "execution_count": 45,
      "outputs": []
    },
    {
      "cell_type": "markdown",
      "source": [
        "**4.Adding Dense Layers**"
      ],
      "metadata": {
        "id": "bNQH9-N-4eKC"
      }
    },
    {
      "cell_type": "code",
      "source": [
        "model.add(Dense(kernel_initializer='uniform',activation='relu',units=150))\n",
        "model.add(Dense(kernel_initializer='uniform',activation='relu',units=68))\n",
        "model.add(Dense(kernel_initializer='uniform',activation='relu',units=6))"
      ],
      "metadata": {
        "id": "EE2qM47B4u15"
      },
      "execution_count": 46,
      "outputs": []
    },
    {
      "cell_type": "markdown",
      "source": [
        "**5.Creating A Model Object**"
      ],
      "metadata": {
        "id": "GMtslQKd6cFG"
      }
    },
    {
      "cell_type": "code",
      "source": [
        "model.summary()"
      ],
      "metadata": {
        "colab": {
          "base_uri": "https://localhost:8080/"
        },
        "id": "_YzrrpdH6Vsa",
        "outputId": "dadc8089-d12b-4eee-ecde-bbf537a3b785"
      },
      "execution_count": 47,
      "outputs": [
        {
          "output_type": "stream",
          "name": "stdout",
          "text": [
            "Model: \"sequential_2\"\n",
            "_________________________________________________________________\n",
            " Layer (type)                Output Shape              Param #   \n",
            "=================================================================\n",
            " conv2d_7 (Conv2D)           (None, 126, 126, 32)      896       \n",
            "                                                                 \n",
            " max_pooling2d_6 (MaxPooling  (None, 63, 63, 32)       0         \n",
            " 2D)                                                             \n",
            "                                                                 \n",
            " conv2d_8 (Conv2D)           (None, 63, 63, 64)        18496     \n",
            "                                                                 \n",
            " max_pooling2d_7 (MaxPooling  (None, 31, 31, 64)       0         \n",
            " 2D)                                                             \n",
            "                                                                 \n",
            " conv2d_9 (Conv2D)           (None, 29, 29, 32)        18464     \n",
            "                                                                 \n",
            " max_pooling2d_8 (MaxPooling  (None, 14, 14, 32)       0         \n",
            " 2D)                                                             \n",
            "                                                                 \n",
            " conv2d_10 (Conv2D)          (None, 14, 14, 32)        9248      \n",
            "                                                                 \n",
            " max_pooling2d_9 (MaxPooling  (None, 7, 7, 32)         0         \n",
            " 2D)                                                             \n",
            "                                                                 \n",
            " flatten (Flatten)           (None, 1568)              0         \n",
            "                                                                 \n",
            " dense (Dense)               (None, 150)               235350    \n",
            "                                                                 \n",
            " dense_1 (Dense)             (None, 68)                10268     \n",
            "                                                                 \n",
            " dense_2 (Dense)             (None, 6)                 414       \n",
            "                                                                 \n",
            "=================================================================\n",
            "Total params: 293,136\n",
            "Trainable params: 293,136\n",
            "Non-trainable params: 0\n",
            "_________________________________________________________________\n"
          ]
        }
      ]
    },
    {
      "cell_type": "markdown",
      "source": [
        "**6. Configure the Learning Process**"
      ],
      "metadata": {
        "id": "pOt1Zh_77SXT"
      }
    },
    {
      "cell_type": "code",
      "source": [
        "model.compile(\n",
        "  loss='categorical_crossentropy',\n",
        "  optimizer='adam',\n",
        "  metrics=['acc']\n",
        ")"
      ],
      "metadata": {
        "id": "w9wV-RwM7Zvv"
      },
      "execution_count": 48,
      "outputs": []
    },
    {
      "cell_type": "markdown",
      "source": [
        "**7. Train the Model**"
      ],
      "metadata": {
        "id": "g20JKe3x7ngC"
      }
    },
    {
      "cell_type": "code",
      "source": [
        "res = model.fit_generator(\n",
        "  train_transform,\n",
        "  steps_per_epoch=2527//64,\n",
        "  validation_steps=782//64,\n",
        "  epochs=30,\n",
        "  validation_data=test_transform\n",
        ")"
      ],
      "metadata": {
        "colab": {
          "base_uri": "https://localhost:8080/"
        },
        "id": "CnehGymg7o5W",
        "outputId": "38cb9afe-e314-43be-e1ce-88d6f4ccc138"
      },
      "execution_count": 49,
      "outputs": [
        {
          "output_type": "stream",
          "name": "stderr",
          "text": [
            "<ipython-input-49-cf483d53cb30>:1: UserWarning: `Model.fit_generator` is deprecated and will be removed in a future version. Please use `Model.fit`, which supports generators.\n",
            "  res = model.fit_generator(\n"
          ]
        },
        {
          "output_type": "stream",
          "name": "stdout",
          "text": [
            "Epoch 1/30\n",
            "39/39 [==============================] - 969s 25s/step - loss: 6.7970 - acc: 0.2274 - val_loss: 6.4493 - val_acc: 0.2630\n",
            "Epoch 2/30\n",
            "39/39 [==============================] - 100s 3s/step - loss: 6.5715 - acc: 0.2716 - val_loss: 7.2315 - val_acc: 0.3086\n",
            "Epoch 3/30\n",
            "39/39 [==============================] - 100s 3s/step - loss: 6.7892 - acc: 0.2647 - val_loss: 6.5556 - val_acc: 0.2435\n",
            "Epoch 4/30\n",
            "39/39 [==============================] - 97s 2s/step - loss: 6.6160 - acc: 0.2335 - val_loss: 6.6227 - val_acc: 0.2240\n",
            "Epoch 5/30\n",
            "39/39 [==============================] - 98s 3s/step - loss: 6.6442 - acc: 0.2326 - val_loss: 6.6841 - val_acc: 0.2266\n",
            "Epoch 6/30\n",
            "39/39 [==============================] - 101s 3s/step - loss: 6.6060 - acc: 0.2452 - val_loss: 6.7107 - val_acc: 0.2826\n",
            "Epoch 7/30\n",
            "39/39 [==============================] - 100s 3s/step - loss: 6.5619 - acc: 0.2611 - val_loss: 6.6324 - val_acc: 0.2005\n",
            "Epoch 8/30\n",
            "39/39 [==============================] - 99s 3s/step - loss: 6.6423 - acc: 0.2261 - val_loss: 6.7685 - val_acc: 0.2266\n",
            "Epoch 9/30\n",
            "39/39 [==============================] - 99s 2s/step - loss: 6.6822 - acc: 0.2335 - val_loss: 6.3158 - val_acc: 0.2539\n",
            "Epoch 10/30\n",
            "39/39 [==============================] - 98s 3s/step - loss: 6.6277 - acc: 0.2318 - val_loss: 6.8581 - val_acc: 0.2292\n",
            "Epoch 11/30\n",
            "39/39 [==============================] - 99s 3s/step - loss: 6.6433 - acc: 0.2359 - val_loss: 6.4943 - val_acc: 0.2578\n",
            "Epoch 12/30\n",
            "39/39 [==============================] - 100s 3s/step - loss: 6.6492 - acc: 0.2351 - val_loss: 6.6126 - val_acc: 0.2461\n",
            "Epoch 13/30\n",
            "39/39 [==============================] - 99s 3s/step - loss: 6.6206 - acc: 0.2352 - val_loss: 7.0745 - val_acc: 0.2305\n",
            "Epoch 14/30\n",
            "39/39 [==============================] - 100s 3s/step - loss: 6.6186 - acc: 0.2371 - val_loss: 6.6327 - val_acc: 0.2305\n",
            "Epoch 15/30\n",
            "39/39 [==============================] - 98s 3s/step - loss: 6.6725 - acc: 0.2343 - val_loss: 6.5969 - val_acc: 0.2318\n",
            "Epoch 16/30\n",
            "39/39 [==============================] - 98s 3s/step - loss: 6.6019 - acc: 0.2351 - val_loss: 6.3088 - val_acc: 0.2305\n",
            "Epoch 17/30\n",
            "39/39 [==============================] - 100s 3s/step - loss: 6.5992 - acc: 0.2359 - val_loss: 6.6669 - val_acc: 0.2292\n",
            "Epoch 18/30\n",
            "39/39 [==============================] - 98s 3s/step - loss: 6.6192 - acc: 0.2343 - val_loss: 6.6865 - val_acc: 0.2500\n",
            "Epoch 19/30\n",
            "39/39 [==============================] - 100s 3s/step - loss: 6.6389 - acc: 0.2363 - val_loss: 6.3719 - val_acc: 0.2305\n",
            "Epoch 20/30\n",
            "39/39 [==============================] - 99s 3s/step - loss: 6.6332 - acc: 0.2383 - val_loss: 6.6542 - val_acc: 0.2331\n",
            "Epoch 21/30\n",
            "39/39 [==============================] - 98s 3s/step - loss: 6.6270 - acc: 0.2814 - val_loss: 7.0311 - val_acc: 0.2057\n",
            "Epoch 22/30\n",
            "39/39 [==============================] - 97s 2s/step - loss: 6.6268 - acc: 0.2322 - val_loss: 6.5411 - val_acc: 0.2318\n",
            "Epoch 23/30\n",
            "39/39 [==============================] - 98s 3s/step - loss: 6.5970 - acc: 0.2367 - val_loss: 6.2787 - val_acc: 0.2799\n",
            "Epoch 24/30\n",
            "39/39 [==============================] - 98s 3s/step - loss: 6.5837 - acc: 0.2858 - val_loss: 6.3961 - val_acc: 0.2812\n",
            "Epoch 25/30\n",
            "39/39 [==============================] - 99s 3s/step - loss: 6.5251 - acc: 0.3642 - val_loss: 6.3526 - val_acc: 0.3997\n",
            "Epoch 26/30\n",
            "39/39 [==============================] - 98s 3s/step - loss: 6.5248 - acc: 0.3735 - val_loss: 6.5666 - val_acc: 0.3841\n",
            "Epoch 27/30\n",
            "39/39 [==============================] - 100s 3s/step - loss: 6.5299 - acc: 0.3780 - val_loss: 6.2806 - val_acc: 0.3815\n",
            "Epoch 28/30\n",
            "39/39 [==============================] - 98s 3s/step - loss: 6.5160 - acc: 0.3894 - val_loss: 6.7936 - val_acc: 0.3906\n",
            "Epoch 29/30\n",
            "39/39 [==============================] - 99s 3s/step - loss: 6.4948 - acc: 0.3930 - val_loss: 6.8273 - val_acc: 0.3529\n",
            "Epoch 30/30\n",
            "39/39 [==============================] - 100s 3s/step - loss: 6.4496 - acc: 0.4060 - val_loss: 6.3682 - val_acc: 0.3919\n"
          ]
        }
      ]
    },
    {
      "cell_type": "markdown",
      "source": [
        "**8.Save the Model**"
      ],
      "metadata": {
        "id": "e0y2hGkI94v_"
      }
    },
    {
      "cell_type": "code",
      "source": [
        "model.save('Garbage1.h5')"
      ],
      "metadata": {
        "id": "Ygm0ebV79-D0"
      },
      "execution_count": 50,
      "outputs": []
    },
    {
      "cell_type": "markdown",
      "source": [
        "**9.Test the Model**"
      ],
      "metadata": {
        "id": "GEFIIJzl9MaO"
      }
    },
    {
      "cell_type": "code",
      "source": [
        "import numpy as np\n",
        "from tensorflow.keras.models import load_model\n",
        "from tensorflow.keras.preprocessing import image\n",
        "model=load_model(\"Garbage1.h5\")"
      ],
      "metadata": {
        "id": "GscazcjW9CiM"
      },
      "execution_count": 52,
      "outputs": []
    },
    {
      "cell_type": "code",
      "source": [
        "img=image.load_img(r\"/content/drive/MyDrive/Dataset/Garbage classification/Garbage classification/glass/glass17.jpg\",target_size=(128,128))\n",
        "x=image.img_to_array(img)\n",
        "x=np.expand_dims(x,axis=0)"
      ],
      "metadata": {
        "id": "ant4dEgJCgyg"
      },
      "execution_count": 53,
      "outputs": []
    },
    {
      "cell_type": "code",
      "source": [
        "a=np.argmax(model.predict(x), axis=1)"
      ],
      "metadata": {
        "colab": {
          "base_uri": "https://localhost:8080/"
        },
        "id": "VLqzSsKEDprI",
        "outputId": "c272402f-4824-4045-99ce-21c5a4d60452"
      },
      "execution_count": 54,
      "outputs": [
        {
          "output_type": "stream",
          "name": "stdout",
          "text": [
            "1/1 [==============================] - 0s 161ms/step\n"
          ]
        }
      ]
    },
    {
      "cell_type": "code",
      "source": [
        "index=['0','1','2','3','4','5']\n",
        "result=str(index[a[0]])\n",
        "result"
      ],
      "metadata": {
        "colab": {
          "base_uri": "https://localhost:8080/",
          "height": 36
        },
        "id": "8XdpPUAkDyDz",
        "outputId": "fe6a853c-e697-42e9-83e5-93adffa95108"
      },
      "execution_count": 55,
      "outputs": [
        {
          "output_type": "execute_result",
          "data": {
            "text/plain": [
              "'4'"
            ],
            "application/vnd.google.colaboratory.intrinsic+json": {
              "type": "string"
            }
          },
          "metadata": {},
          "execution_count": 55
        }
      ]
    },
    {
      "cell_type": "code",
      "source": [
        "index1=['cardboard','glass','metal','paper','plastic','trash']\n",
        "result1=str(index1[a[0]])\n",
        "result1"
      ],
      "metadata": {
        "colab": {
          "base_uri": "https://localhost:8080/",
          "height": 36
        },
        "id": "Tu6y_ZqpEHxr",
        "outputId": "a0bf6516-b6cd-45d3-a23f-1973b78e1e5f"
      },
      "execution_count": 57,
      "outputs": [
        {
          "output_type": "execute_result",
          "data": {
            "text/plain": [
              "'plastic'"
            ],
            "application/vnd.google.colaboratory.intrinsic+json": {
              "type": "string"
            }
          },
          "metadata": {},
          "execution_count": 57
        }
      ]
    }
  ]
}